{
 "cells": [
  {
   "cell_type": "code",
   "execution_count": 1,
   "metadata": {},
   "outputs": [],
   "source": [
    "from mpl_toolkits.mplot3d import Axes3D\n",
    "from sklearn.preprocessing import StandardScaler\n",
    "import matplotlib.pyplot as plt\n",
    "import numpy as np\n",
    "import os\n",
    "import pandas as pd\n",
    "import seaborn as sns"
   ]
  },
  {
   "cell_type": "code",
   "execution_count": 2,
   "metadata": {},
   "outputs": [
    {
     "name": "stdout",
     "output_type": "stream",
     "text": [
      "There are 1000 rows and 693 columns\n"
     ]
    }
   ],
   "source": [
    "nRowsRead = 1000\n",
    "df1 = pd.read_csv('METABRIC_RNA_Mutation.csv', delimiter=',', nrows = nRowsRead)\n",
    "df1.dataframeName = 'METABRIC_RNA_Mutation.csv'\n",
    "nRow, nCol = df1.shape\n",
    "print(f'There are {nRow} rows and {nCol} columns')"
   ]
  },
  {
   "cell_type": "code",
   "execution_count": 4,
   "metadata": {},
   "outputs": [
    {
     "data": {
      "text/html": [
       "<div>\n",
       "<style scoped>\n",
       "    .dataframe tbody tr th:only-of-type {\n",
       "        vertical-align: middle;\n",
       "    }\n",
       "\n",
       "    .dataframe tbody tr th {\n",
       "        vertical-align: top;\n",
       "    }\n",
       "\n",
       "    .dataframe thead th {\n",
       "        text-align: right;\n",
       "    }\n",
       "</style>\n",
       "<table border=\"1\" class=\"dataframe\">\n",
       "  <thead>\n",
       "    <tr style=\"text-align: right;\">\n",
       "      <th></th>\n",
       "      <th>patient_id</th>\n",
       "      <th>age_at_diagnosis</th>\n",
       "      <th>type_of_breast_surgery</th>\n",
       "      <th>cancer_type</th>\n",
       "      <th>cancer_type_detailed</th>\n",
       "      <th>cellularity</th>\n",
       "      <th>chemotherapy</th>\n",
       "      <th>pam50_+_claudin-low_subtype</th>\n",
       "      <th>cohort</th>\n",
       "      <th>er_status_measured_by_ihc</th>\n",
       "      <th>...</th>\n",
       "      <th>mtap_mut</th>\n",
       "      <th>ppp2cb_mut</th>\n",
       "      <th>smarcd1_mut</th>\n",
       "      <th>nras_mut</th>\n",
       "      <th>ndfip1_mut</th>\n",
       "      <th>hras_mut</th>\n",
       "      <th>prps2_mut</th>\n",
       "      <th>smarcb1_mut</th>\n",
       "      <th>stmn2_mut</th>\n",
       "      <th>siah1_mut</th>\n",
       "    </tr>\n",
       "  </thead>\n",
       "  <tbody>\n",
       "    <tr>\n",
       "      <th>0</th>\n",
       "      <td>0</td>\n",
       "      <td>75.65</td>\n",
       "      <td>MASTECTOMY</td>\n",
       "      <td>Breast Cancer</td>\n",
       "      <td>Breast Invasive Ductal Carcinoma</td>\n",
       "      <td>NaN</td>\n",
       "      <td>0</td>\n",
       "      <td>claudin-low</td>\n",
       "      <td>1.0</td>\n",
       "      <td>Positve</td>\n",
       "      <td>...</td>\n",
       "      <td>0</td>\n",
       "      <td>0</td>\n",
       "      <td>0</td>\n",
       "      <td>0</td>\n",
       "      <td>0</td>\n",
       "      <td>0</td>\n",
       "      <td>0</td>\n",
       "      <td>0</td>\n",
       "      <td>0</td>\n",
       "      <td>0</td>\n",
       "    </tr>\n",
       "    <tr>\n",
       "      <th>1</th>\n",
       "      <td>2</td>\n",
       "      <td>43.19</td>\n",
       "      <td>BREAST CONSERVING</td>\n",
       "      <td>Breast Cancer</td>\n",
       "      <td>Breast Invasive Ductal Carcinoma</td>\n",
       "      <td>High</td>\n",
       "      <td>0</td>\n",
       "      <td>LumA</td>\n",
       "      <td>1.0</td>\n",
       "      <td>Positve</td>\n",
       "      <td>...</td>\n",
       "      <td>0</td>\n",
       "      <td>0</td>\n",
       "      <td>0</td>\n",
       "      <td>0</td>\n",
       "      <td>0</td>\n",
       "      <td>0</td>\n",
       "      <td>0</td>\n",
       "      <td>0</td>\n",
       "      <td>0</td>\n",
       "      <td>0</td>\n",
       "    </tr>\n",
       "    <tr>\n",
       "      <th>2</th>\n",
       "      <td>5</td>\n",
       "      <td>48.87</td>\n",
       "      <td>MASTECTOMY</td>\n",
       "      <td>Breast Cancer</td>\n",
       "      <td>Breast Invasive Ductal Carcinoma</td>\n",
       "      <td>High</td>\n",
       "      <td>1</td>\n",
       "      <td>LumB</td>\n",
       "      <td>1.0</td>\n",
       "      <td>Positve</td>\n",
       "      <td>...</td>\n",
       "      <td>0</td>\n",
       "      <td>0</td>\n",
       "      <td>0</td>\n",
       "      <td>0</td>\n",
       "      <td>0</td>\n",
       "      <td>0</td>\n",
       "      <td>0</td>\n",
       "      <td>0</td>\n",
       "      <td>0</td>\n",
       "      <td>0</td>\n",
       "    </tr>\n",
       "    <tr>\n",
       "      <th>3</th>\n",
       "      <td>6</td>\n",
       "      <td>47.68</td>\n",
       "      <td>MASTECTOMY</td>\n",
       "      <td>Breast Cancer</td>\n",
       "      <td>Breast Mixed Ductal and Lobular Carcinoma</td>\n",
       "      <td>Moderate</td>\n",
       "      <td>1</td>\n",
       "      <td>LumB</td>\n",
       "      <td>1.0</td>\n",
       "      <td>Positve</td>\n",
       "      <td>...</td>\n",
       "      <td>0</td>\n",
       "      <td>0</td>\n",
       "      <td>0</td>\n",
       "      <td>0</td>\n",
       "      <td>0</td>\n",
       "      <td>0</td>\n",
       "      <td>0</td>\n",
       "      <td>0</td>\n",
       "      <td>0</td>\n",
       "      <td>0</td>\n",
       "    </tr>\n",
       "    <tr>\n",
       "      <th>4</th>\n",
       "      <td>8</td>\n",
       "      <td>76.97</td>\n",
       "      <td>MASTECTOMY</td>\n",
       "      <td>Breast Cancer</td>\n",
       "      <td>Breast Mixed Ductal and Lobular Carcinoma</td>\n",
       "      <td>High</td>\n",
       "      <td>1</td>\n",
       "      <td>LumB</td>\n",
       "      <td>1.0</td>\n",
       "      <td>Positve</td>\n",
       "      <td>...</td>\n",
       "      <td>0</td>\n",
       "      <td>0</td>\n",
       "      <td>0</td>\n",
       "      <td>0</td>\n",
       "      <td>0</td>\n",
       "      <td>0</td>\n",
       "      <td>0</td>\n",
       "      <td>0</td>\n",
       "      <td>0</td>\n",
       "      <td>0</td>\n",
       "    </tr>\n",
       "  </tbody>\n",
       "</table>\n",
       "<p>5 rows × 693 columns</p>\n",
       "</div>"
      ],
      "text/plain": [
       "   patient_id  age_at_diagnosis type_of_breast_surgery    cancer_type  \\\n",
       "0           0             75.65             MASTECTOMY  Breast Cancer   \n",
       "1           2             43.19      BREAST CONSERVING  Breast Cancer   \n",
       "2           5             48.87             MASTECTOMY  Breast Cancer   \n",
       "3           6             47.68             MASTECTOMY  Breast Cancer   \n",
       "4           8             76.97             MASTECTOMY  Breast Cancer   \n",
       "\n",
       "                        cancer_type_detailed cellularity  chemotherapy  \\\n",
       "0           Breast Invasive Ductal Carcinoma         NaN             0   \n",
       "1           Breast Invasive Ductal Carcinoma        High             0   \n",
       "2           Breast Invasive Ductal Carcinoma        High             1   \n",
       "3  Breast Mixed Ductal and Lobular Carcinoma    Moderate             1   \n",
       "4  Breast Mixed Ductal and Lobular Carcinoma        High             1   \n",
       "\n",
       "  pam50_+_claudin-low_subtype  cohort er_status_measured_by_ihc  ... mtap_mut  \\\n",
       "0                 claudin-low     1.0                   Positve  ...        0   \n",
       "1                        LumA     1.0                   Positve  ...        0   \n",
       "2                        LumB     1.0                   Positve  ...        0   \n",
       "3                        LumB     1.0                   Positve  ...        0   \n",
       "4                        LumB     1.0                   Positve  ...        0   \n",
       "\n",
       "   ppp2cb_mut smarcd1_mut nras_mut ndfip1_mut  hras_mut prps2_mut smarcb1_mut  \\\n",
       "0           0           0        0          0         0         0           0   \n",
       "1           0           0        0          0         0         0           0   \n",
       "2           0           0        0          0         0         0           0   \n",
       "3           0           0        0          0         0         0           0   \n",
       "4           0           0        0          0         0         0           0   \n",
       "\n",
       "  stmn2_mut  siah1_mut  \n",
       "0         0          0  \n",
       "1         0          0  \n",
       "2         0          0  \n",
       "3         0          0  \n",
       "4         0          0  \n",
       "\n",
       "[5 rows x 693 columns]"
      ]
     },
     "execution_count": 4,
     "metadata": {},
     "output_type": "execute_result"
    }
   ],
   "source": [
    "df1.head(5)"
   ]
  },
  {
   "cell_type": "markdown",
   "metadata": {},
   "source": [
    "Параметры, которые больше всего коррелируют со смертностью"
   ]
  },
  {
   "cell_type": "code",
   "execution_count": 5,
   "metadata": {},
   "outputs": [],
   "source": [
    "#Pivot table for overall survival\n",
    "corr = pd.pivot_table(df1, columns=['overall_survival'])"
   ]
  },
  {
   "cell_type": "code",
   "execution_count": 6,
   "metadata": {},
   "outputs": [],
   "source": [
    "#Get top 30 values \n",
    "bestDeathCorr30 = corr.iloc[:,0].sort_values(ascending=False).head(30)"
   ]
  },
  {
   "cell_type": "code",
   "execution_count": 7,
   "metadata": {},
   "outputs": [
    {
     "data": {
      "text/plain": [
       "patient_id                       2497.385047\n",
       "overall_survival_months           101.688474\n",
       "age_at_diagnosis                   63.350729\n",
       "tumor_size                         28.906191\n",
       "mutation_count                      5.594231\n",
       "nottingham_prognostic_index         4.276288\n",
       "lymph_nodes_examined_positive       2.671028\n",
       "neoplasm_histologic_grade           2.530097\n",
       "cohort                              1.942056\n",
       "tumor_stage                         1.861167\n",
       "radio_therapy                       0.635514\n",
       "hormone_therapy                     0.592523\n",
       "aph1a                               0.280890\n",
       "foxp1                               0.241020\n",
       "ccnb1                               0.236953\n",
       "akt1s1                              0.232900\n",
       "chemotherapy                        0.218692\n",
       "rassf1                              0.204591\n",
       "mmp14                               0.199585\n",
       "stk11                               0.184761\n",
       "epcam                               0.157607\n",
       "thsd7a                              0.154287\n",
       "rps6kb2                             0.153022\n",
       "syne1                               0.150311\n",
       "acvr2a                              0.149562\n",
       "numbl                               0.145502\n",
       "map4                                0.140024\n",
       "cyp19a1                             0.139188\n",
       "acvr2b                              0.137033\n",
       "map3k10                             0.134606\n",
       "Name: 0, dtype: float64"
      ]
     },
     "execution_count": 7,
     "metadata": {},
     "output_type": "execute_result"
    }
   ],
   "source": [
    "#Show top 30 values \n",
    "bestDeathCorr30"
   ]
  },
  {
   "cell_type": "markdown",
   "metadata": {},
   "source": [
    "Наибольшая корреляция общей смертности связана с:\n",
    "1) \"overall_survival_months\"\n",
    "2) \"age_at_diagnosis\"\n",
    "3) \"tumor_size\"\n",
    "4) \"mutation_count\"\n",
    "5) \"nottingham_prognostic_index\""
   ]
  },
  {
   "cell_type": "code",
   "execution_count": 8,
   "metadata": {},
   "outputs": [],
   "source": [
    "#Get correlations for living \n",
    "bestLifeCorr30 = corr.iloc[:,1].sort_values(ascending=False).head(30)"
   ]
  },
  {
   "cell_type": "code",
   "execution_count": 9,
   "metadata": {},
   "outputs": [
    {
     "data": {
      "text/plain": [
       "patient_id                       1685.795699\n",
       "overall_survival_months           156.389176\n",
       "age_at_diagnosis                   55.827376\n",
       "tumor_size                         22.895022\n",
       "mutation_count                      4.428899\n",
       "nottingham_prognostic_index         3.841194\n",
       "neoplasm_histologic_grade           2.333333\n",
       "tumor_stage                         1.638393\n",
       "cohort                              1.533333\n",
       "lymph_nodes_examined_positive       1.247312\n",
       "radio_therapy                       0.709677\n",
       "hormone_therapy                     0.651613\n",
       "cdkn2c                              0.540783\n",
       "hsd17b11                            0.488904\n",
       "syne1                               0.447815\n",
       "spry2                               0.422512\n",
       "igf1                                0.420654\n",
       "folr2                               0.417026\n",
       "casp8                               0.393551\n",
       "pdgfra                              0.372744\n",
       "psen1                               0.372268\n",
       "zfp36l1                             0.361655\n",
       "lama2                               0.354238\n",
       "eif4e                               0.350337\n",
       "ppp2cb                              0.336136\n",
       "pms2                                0.329418\n",
       "mapk14                              0.325705\n",
       "fgf1                                0.320927\n",
       "rb1                                 0.299558\n",
       "cir1                                0.298145\n",
       "Name: 1, dtype: float64"
      ]
     },
     "execution_count": 9,
     "metadata": {},
     "output_type": "execute_result"
    }
   ],
   "source": [
    "#Show top 30 values \n",
    "bestLifeCorr30"
   ]
  },
  {
   "cell_type": "markdown",
   "metadata": {},
   "source": [
    "Наибольшая корреляция общей выживаемостью связана с:\n",
    "1) \"overall_survival_months\"\n",
    "2) \"age_at_diagnosis\"\n",
    "3) \"tumor_size\"\n",
    "4) \"mutation_count\"\n",
    "5) \"nottingham_prognostic_index\""
   ]
  },
  {
   "cell_type": "markdown",
   "metadata": {},
   "source": [
    "Общая выживаемость в зависимости от статуса лимфатических узлов (положительные узлы)"
   ]
  },
  {
   "cell_type": "code",
   "execution_count": 10,
   "metadata": {},
   "outputs": [
    {
     "data": {
      "image/png": "[encoded data removed]",
      "text/plain": [
       "<Figure size 1080x360 with 1 Axes>"
      ]
     },
     "metadata": {
      "needs_background": "light"
     },
     "output_type": "display_data"
    }
   ],
   "source": [
    "#Get boxplot graphs for overall surival months and some interesting categories \n",
    "#f, axes = plt.subplots(2, 1, figsize=(20,15), sharex=False)\n",
    "\n",
    "#Main plot to be plotted \n",
    "plt.figure(figsize=(15,5))\n",
    "sns.boxplot(x='lymph_nodes_examined_positive', y='overall_survival_months', hue='overall_survival', data=df1) #ax=axes[0, 0]\n",
    "plt.xlabel(\"Lymph nodes examined positive\", fontsize=16)\n",
    "plt.xticks(fontsize=12)\n",
    "plt.ylabel(\"Overall survival (months)\", fontsize=16)\n",
    "plt.yticks(fontsize=12)\n",
    "plt.title(\"Overall survival vs. positive lymph nodes\", fontsize=16)\n",
    "\n",
    "#Other plots that will not be plotted\n",
    "#sns.boxplot(x='er_status', y='overall_survival_months', hue='overall_survival', data=df1, ax=axes[1, 0])\n",
    "#sns.boxplot(x='her2_status_measured_by_snp6', y='overall_survival_months', hue='overall_survival', data=df1, ax=axes[1, 0])\n",
    "#sns.boxplot(x='tumor_stage', y='overall_survival_months', hue='overall_survival', data=df1, ax=axes[1, 1])\n",
    "#sns.boxplot(x='pr_status', y='overall_survival_months', hue='overall_survival', data=df1, ax=axes[2, 0])\n",
    "#sns.boxplot(x='neoplasm_histologic_grade', y='overall_survival_months', hue='overall_survival', data=df1, ax=axes[2, 1])\n",
    "\n",
    "#plt.tight_layout()\n",
    "\n",
    "plt.savefig(\"\")"
   ]
  },
  {
   "cell_type": "code",
   "execution_count": 11,
   "metadata": {},
   "outputs": [],
   "source": [
    "#Group by overall survival to find the survival months mean and std. \n",
    "survivalMonths = df1.groupby(by='overall_survival')\n",
    "survivalMonthsMean = survivalMonths.mean()['overall_survival_months']\n",
    "survivalMonthsStd = survivalMonths.std()['overall_survival_months']"
   ]
  },
  {
   "cell_type": "code",
   "execution_count": 12,
   "metadata": {},
   "outputs": [
    {
     "name": "stdout",
     "output_type": "stream",
     "text": [
      "overall_survival\n",
      "0    101.688474\n",
      "1    156.389176\n",
      "Name: overall_survival_months, dtype: float64\n",
      "overall_survival\n",
      "0    74.877092\n",
      "1    77.879029\n",
      "Name: overall_survival_months, dtype: float64\n"
     ]
    }
   ],
   "source": [
    "print (survivalMonthsMean)\n",
    "print(survivalMonthsStd)"
   ]
  },
  {
   "cell_type": "markdown",
   "metadata": {},
   "source": [
    "Общая выживаемость: 156.4 ± 77.9\n",
    "Общая смертность: 101.7 ± 74.9"
   ]
  },
  {
   "cell_type": "markdown",
   "metadata": {},
   "source": [
    "Корреляционный анализ лечения"
   ]
  },
  {
   "cell_type": "code",
   "execution_count": 13,
   "metadata": {},
   "outputs": [],
   "source": [
    "#Get treatment list \n",
    "treatmentList = [\"type_of_breast_surgery\", \"chemotherapy\", \"hormone_therapy\", \"radio_therapy\"] #cut, poison, hormones, burn "
   ]
  },
  {
   "cell_type": "code",
   "execution_count": 14,
   "metadata": {},
   "outputs": [
    {
     "name": "stderr",
     "output_type": "stream",
     "text": [
      "/home/dimasik99/anaconda3/lib/python3.7/site-packages/ipykernel_launcher.py:3: SettingWithCopyWarning: \n",
      "A value is trying to be set on a copy of a slice from a DataFrame.\n",
      "Try using .loc[row_indexer,col_indexer] = value instead\n",
      "\n",
      "See the caveats in the documentation: https://pandas.pydata.org/pandas-docs/stable/user_guide/indexing.html#returning-a-view-versus-a-copy\n",
      "  This is separate from the ipykernel package so we can avoid doing imports until\n"
     ]
    }
   ],
   "source": [
    "#Get correlations between the treatments \n",
    "dfTreatments = df1[treatmentList]\n",
    "dfTreatments[\"type_of_breast_surgery\"] = dfTreatments[\"type_of_breast_surgery\"].apply(lambda x: 1 if \"MASTECTOMY\" in str(x) else 0)"
   ]
  },
  {
   "cell_type": "code",
   "execution_count": 15,
   "metadata": {},
   "outputs": [
    {
     "name": "stderr",
     "output_type": "stream",
     "text": [
      "/home/dimasik99/anaconda3/lib/python3.7/site-packages/pandas/core/frame.py:4133: SettingWithCopyWarning: \n",
      "A value is trying to be set on a copy of a slice from a DataFrame\n",
      "\n",
      "See the caveats in the documentation: https://pandas.pydata.org/pandas-docs/stable/user_guide/indexing.html#returning-a-view-versus-a-copy\n",
      "  errors=errors,\n"
     ]
    }
   ],
   "source": [
    "#Rename columns and get correlation \n",
    "dfTreatments.rename(columns={\"type_of_breast_surgery\": \"Mastectomy\", \"chemotherapy\": \"Chemotherapy\", \"hormone_therapy\": \"Hormone Therapy\", \"radio_therapy\": \"Radio Therapy\"}, inplace=True)\n",
    "dfTreatmentsCorr = dfTreatments.corr() "
   ]
  },
  {
   "cell_type": "code",
   "execution_count": 16,
   "metadata": {},
   "outputs": [
    {
     "data": {
      "text/plain": [
       "<AxesSubplot:>"
      ]
     },
     "execution_count": 16,
     "metadata": {},
     "output_type": "execute_result"
    },
    {
     "data": {
      "image/png": "[encoded data removed]",
      "text/plain": [
       "<Figure size 432x288 with 2 Axes>"
      ]
     },
     "metadata": {
      "needs_background": "light"
     },
     "output_type": "display_data"
    }
   ],
   "source": [
    "#Display heatmap \n",
    "sns.heatmap(dfTreatmentsCorr, cmap = \"YlGnBu\", annot=True, fmt=\".2f\")"
   ]
  },
  {
   "cell_type": "markdown",
   "metadata": {},
   "source": [
    "Радиотерапия и химиотерапия комбинируются чаще, чем другие виды терапии"
   ]
  },
  {
   "cell_type": "markdown",
   "metadata": {},
   "source": [
    "Анализ эффективности лечения"
   ]
  },
  {
   "cell_type": "code",
   "execution_count": 21,
   "metadata": {},
   "outputs": [],
   "source": [
    "#Get the overall survival % in 100%. \n",
    "mastectomyCounts = (dfTreatments[\"Mastectomy\"].value_counts()[1]/dfTreatments[\"Mastectomy\"].value_counts().sum())*100\n",
    "chemoCounts = (dfTreatments[\"Chemotherapy\"].value_counts()[1]/dfTreatments[\"Chemotherapy\"].value_counts().sum())*100\n",
    "hormoneCounts = (dfTreatments[\"Hormone Therapy\"].value_counts()[1]/dfTreatments[\"Hormone Therapy\"].value_counts().sum())*100\n",
    "radioCounts = (dfTreatments[\"Radio Therapy\"].value_counts()[1]/dfTreatments[\"Radio Therapy\"].value_counts().sum())*100"
   ]
  },
  {
   "cell_type": "code",
   "execution_count": 22,
   "metadata": {},
   "outputs": [],
   "source": [
    "#Dictionary of the survival % for each treatment \n",
    "treatmentSurvivalDict = {'Mastectomy': mastectomyCounts, 'Chemotherapy': chemoCounts, 'Hormone Therapy':hormoneCounts, 'Radio Therapy': radioCounts}"
   ]
  },
  {
   "cell_type": "code",
   "execution_count": 23,
   "metadata": {
    "scrolled": true
   },
   "outputs": [
    {
     "data": {
      "image/png": "[encoded data removed]",
      "text/plain": [
       "<Figure size 540x360 with 1 Axes>"
      ]
     },
     "metadata": {
      "needs_background": "light"
     },
     "output_type": "display_data"
    }
   ],
   "source": [
    "#Plot of each treatment \n",
    "plt.figure(figsize=(7.5,5))\n",
    "plt.bar(list(treatmentSurvivalDict.keys()), list(treatmentSurvivalDict.values()))\n",
    "plt.xlabel(\"Treatment\", fontsize=15)\n",
    "plt.ylabel(\"Survival %\", fontsize=15)\n",
    "plt.xticks(size=12)\n",
    "plt.yticks(size=12)\n",
    "\n",
    "plt.tight_layout()"
   ]
  },
  {
   "cell_type": "markdown",
   "metadata": {},
   "source": [
    "Наилучшая выживаемость достигается при лучевой терапии, гормональной терапии или мастэктомии"
   ]
  }
 ],
 "metadata": {
  "kernelspec": {
   "display_name": "Python 3 (ipykernel)",
   "language": "python",
   "name": "python3"
  },
  "language_info": {
   "codemirror_mode": {
    "name": "ipython",
    "version": 3
   },
   "file_extension": ".py",
   "mimetype": "text/x-python",
   "name": "python",
   "nbconvert_exporter": "python",
   "pygments_lexer": "ipython3",
   "version": "3.7.6"
  }
 },
 "nbformat": 4,
 "nbformat_minor": 4
}
